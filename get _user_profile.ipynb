{
 "cells": [
  {
   "cell_type": "code",
   "execution_count": 154,
   "metadata": {},
   "outputs": [],
   "source": [
    "import requests\n",
    "from bs4 import BeautifulSoup"
   ]
  },
  {
   "cell_type": "code",
   "execution_count": 155,
   "metadata": {},
   "outputs": [],
   "source": [
    "davis = \"davis\""
   ]
  },
  {
   "cell_type": "code",
   "execution_count": 156,
   "metadata": {},
   "outputs": [],
   "source": [
    "class LfoCharacter:\n",
    "    name = \"\"\n",
    "    tranable = False\n",
    "    placeOfBirth = \"\"\n",
    "\n",
    "    def __init__(self, name):\n",
    "        self.name = name\n",
    "\n",
    "    def set_tranable(self, tranable):\n",
    "        self.tranable = tranable\n",
    "\n",
    "    def toJson(self):\n",
    "        return {\n",
    "            \"name\": self.name,\n",
    "            \"tranable\": self.tranable,\n",
    "            \"placeOfBirth\": self.placeOfBirth,\n",
    "        }"
   ]
  },
  {
   "cell_type": "code",
   "execution_count": 157,
   "metadata": {},
   "outputs": [],
   "source": [
    "def extractSkills():\n",
    "    skillsResponse = requests.get(\n",
    "        \"https://sites.google.com/site/lfostory/index2/character/\" + character\n",
    "    )\n",
    "\n",
    "    skillsSoup = BeautifulSoup(skillsResponse.text, \"html.parser\")\n",
    "    skillsHtmlPrettify = skillsSoup.prettify()\n",
    "    return"
   ]
  },
  {
   "cell_type": "code",
   "execution_count": 179,
   "metadata": {},
   "outputs": [],
   "source": [
    "class PropertyExtractor:\n",
    "    def __init__(self, name):\n",
    "        self.name = name\n",
    "\n",
    "    def start(self):\n",
    "        print(f\"--- starting fetch profile of '{self.name}' ---\")\n",
    "        self.profileResponse = requests.get(\n",
    "            \"https://sites.google.com/site/lfostory/index2/character/\" + self.name\n",
    "        )\n",
    "        self.tranableSiteReponse = requests.get(\n",
    "            \"https://sites.google.com/site/lfostory/index2/character/\"\n",
    "            + self.name\n",
    "            + \"/r\"\n",
    "        )\n",
    "        self.thisCharacter = LfoCharacter(self.name)\n",
    "\n",
    "        self.profileSoup = BeautifulSoup(self.profileResponse.text, \"html.parser\")\n",
    "        self.thisCharacter.set_tranable(self.tranableSiteReponse.status_code == 200)\n",
    "\n",
    "        self.extractCharacterProfile()\n",
    "\n",
    "        self.toJson()\n",
    "\n",
    "    def extractCharacterProfile(self):\n",
    "        locatKey = \"角色立繪\"\n",
    "        cProfile = self.profileSoup.find(\n",
    "            \"div\", string=locatKey\n",
    "        ).next_sibling.next_sibling.next_sibling.next_sibling\n",
    "        print(cProfile)\n",
    "\n",
    "    def toJson(self):\n",
    "        print(\"\\nfinal JSON: \\n\")\n",
    "        print(self.thisCharacter.toJson())\n",
    "        return self.thisCharacter.toJson()"
   ]
  },
  {
   "cell_type": "code",
   "execution_count": 180,
   "metadata": {
    "tags": []
   },
   "outputs": [
    {
     "name": "stdout",
     "output_type": "stream",
     "text": [
      "--- starting fetch profile of 'davis' ---\n",
      "<div style=\"text-align:center\">\n",
      "<div><span style=\"text-align:start\"><font face=\"arial, sans-serif\">\n",
      "<div style=\"text-align:center\"><b style=\"font-size:medium;background-color:transparent\">~C</b><span style=\"text-align:start;background-color:transparent\"><font size=\"3\"><b>haracter</b></font></span><b style=\"font-size:medium;background-color:transparent\">Profile~</b></div>\n",
      "</font></span></div>\n",
      "<div style=\"font-size:large;font-weight:bold\">\n",
      "<table border=\"1\" bordercolor=\"#009fff\" cellspacing=\"0\" style=\"margin-right:auto;margin-left:auto;font-size:13px;font-weight:normal\">\n",
      "<tbody>\n",
      "<tr>\n",
      "<td style=\"width:70px;height:17px\"><font face=\"arial, sans-serif\">出生地</font></td>\n",
      "<td style=\"width:168px;height:17px\"><font face=\"arial, sans-serif\"><span style=\"text-align:start\">香港</span></font></td>\n",
      "</tr>\n",
      "<tr>\n",
      "<td style=\"width:70px;height:17px\"><font face=\"arial, sans-serif\">身份</font></td>\n",
      "<td style=\"width:168px;height:17px\"><font face=\"arial, sans-serif\">學生(<span style=\"font-size:small\">搏擊社隊長)/元鬥士</span></font></td>\n",
      "</tr>\n",
      "<tr>\n",
      "<td style=\"width:70px;height:17px\">戰鬥方式</td>\n",
      "<td style=\"width:168px;height:17px\"><font face=\"arial, sans-serif\">元力/突變元能</font></td>\n",
      "</tr>\n",
      "<tr>\n",
      "<td style=\"width:70px;height:17px\"><font face=\"arial, sans-serif\">實裝版本</font></td>\n",
      "<td style=\"width:168px;height:17px\"><font face=\"arial, sans-serif\">v1.0 始祖力量篇<br/>\n",
      "</font></td>\n",
      "</tr>\n",
      "</tbody>\n",
      "</table>\n",
      "</div>\n",
      "</div>\n",
      "\n",
      "final JSON: \n",
      "\n",
      "{'name': 'davis', 'tranable': True, 'placeOfBirth': ''}\n"
     ]
    }
   ],
   "source": [
    "pE = PropertyExtractor(davis)\n",
    "pE.start()"
   ]
  },
  {
   "cell_type": "code",
   "execution_count": 70,
   "metadata": {},
   "outputs": [],
   "source": []
  },
  {
   "cell_type": "code",
   "execution_count": null,
   "metadata": {},
   "outputs": [],
   "source": []
  },
  {
   "cell_type": "code",
   "execution_count": null,
   "metadata": {},
   "outputs": [],
   "source": []
  }
 ],
 "metadata": {
  "kernelspec": {
   "display_name": "Python 3",
   "language": "python",
   "name": "python3"
  },
  "language_info": {
   "codemirror_mode": {
    "name": "ipython",
    "version": 3
   },
   "file_extension": ".py",
   "mimetype": "text/x-python",
   "name": "python",
   "nbconvert_exporter": "python",
   "pygments_lexer": "ipython3",
   "version": "3.7.11"
  }
 },
 "nbformat": 4,
 "nbformat_minor": 4
}
